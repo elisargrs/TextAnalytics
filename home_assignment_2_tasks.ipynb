{
 "cells": [
  {
   "cell_type": "markdown",
   "id": "c295abce",
   "metadata": {},
   "source": [
    "# Home Assignment 2 (26 pts)\n",
    "\n",
    "Submit your solution via Ilias until 23.59h on Friday, October 25th. Any later submission is not possible.\n",
    "\n",
    "Submit your solutions in teams of 4 students. Unless explicitly agreed otherwise in advance, submissions from teams with more or less members will NOT be graded (i.e., count as failed).\n",
    "\n",
    "**Make sure that all team members are part of the submitting group on Ilias.**\n",
    "\n",
    "You may use the code from the exercises and basic functionalities that are explained in the official documentation of Python packages without citing, __all other sources must be cited__. In case of plagiarism (copying solutions from other teams or from the internet) ALL team members may be expelled from the course without warning.\n",
    "\n",
    "#### General guidelines:\n",
    "* Make sure that your code is executable, any task for which the code does not directly run on our machine will be graded with 0 points.\n",
    "* If you use packages that are not available on the default or conda-forge channel, list them below. Also add a link to installation instructions. \n",
    "* Ensure that the notebook does not rely on the current notebook or system state!\n",
    "  * Use `Kernel --> Restart & Run All` to see if you are using any definitions, variables etc. that \n",
    "    are not in scope anymore.\n",
    "  * Do not rename any of the datasets you use, and load it from the same directory that your ipynb-notebook is located in, i.e., your working directory.\n",
    "* Make sure you clean up your code before submission, e.g., properly align your code, and delete every line of code that you do not need anymore, even if you may have experimented with it. Minimize usage of global variables. Avoid reusing variable names multiple times!\n",
    "* Ensure your code/notebook terminates in reasonable time.\n",
    "* Feel free to use comments in the code. While we do not require them to get full marks, they may help us in case your code has minor errors.\n",
    "* For questions that require a textual answer, please do not write the answer as a comment in a code cell, but in a Markdown cell below the code. Always remember to provide sufficient justification for all answers.\n",
    "* You may create as many additional cells as you want, just make sure that the solutions to the individual tasks can be found near the corresponding assignment.\n",
    "* If you have any general question regarding the understanding of some task, do not hesitate to post in the student forum in Ilias, so we can clear up such questions for all students in the course."
   ]
  },
  {
   "cell_type": "markdown",
   "id": "d7a19c09",
   "metadata": {},
   "source": [
    "Additional packages (if any):\n",
    " - Example: `powerlaw`, https://github.com/jeffalstott/powerlaw"
   ]
  },
  {
   "cell_type": "code",
   "execution_count": 18,
   "id": "7c5e2d05",
   "metadata": {},
   "outputs": [],
   "source": [
    "from typing import List, Union, Dict, Set, Tuple, Sequence"
   ]
  },
  {
   "cell_type": "markdown",
   "id": "91edf14c",
   "metadata": {},
   "source": [
    "### Task 1: WordNet word similarity (9 points)\n",
    "\n",
    "In this task, we want to implement the path-based similarity between two words in WordNet (https://www.nltk.org/api/nltk.corpus.reader.wordnet.html) using the NLTK package. The path-based word similarity between two words is given by\n",
    "$$\n",
    "\\frac{1}{1+d}\n",
    "$$\n",
    "where $d$ is the distance of the shortest path in the hypernym/hyponym hierarchy tree in WordNet between any pair of synsets that are associated with the two input words.\n",
    "\n",
    "From NLTK you should __only__ use the `synsets`, `hypernyms` and `instance_hpyernyms` functions.\n",
    "\n",
    "The following subtasks build on each other, i.e. the functions of the preceding subtasks can be used for the current subtask.\n",
    "\n",
    "_Note: here we define the distance of a synset to itself as 0, the distance to a direct hypernym as 1, ..._"
   ]
  },
  {
   "cell_type": "code",
   "execution_count": 19,
   "id": "7f2b0d09",
   "metadata": {},
   "outputs": [],
   "source": [
    "from nltk.corpus import wordnet as wn\n",
    "from nltk.corpus.reader.wordnet import Synset"
   ]
  },
  {
   "cell_type": "markdown",
   "id": "f3a6c82f",
   "metadata": {},
   "source": [
    "__a)__ Write a function ``shortest_paths_to`` that takes a synset as input and computes the shortest paths to all nodes on the way to the root in the hypernym hierarchy tree of WordNet. The function should return a dictionary that matches all visited hypernyms on the way(s) to the root to the distance of the shortest path from the input synset. Consider that a synset might have multiple paths to the root and that some nodes might appear in multiple paths. However, we only want to store the shortest distances. Moreover, keep in mind that the input synset might be an instance. __(3 pts)__\n",
    "\n",
    "Use the signature in the cell below.\n",
    "\n",
    "__Example:__ _Calling_ ``shortest_paths_to(s)`` _on the synset_ ``s = wn.synset('calculator.n.01')`` _should yield the following result:_\n",
    "\n",
    "``\n",
    "{Synset('calculator.n.01'): 0,\n",
    " Synset('expert.n.01'): 1,\n",
    " Synset('person.n.01'): 2,\n",
    " Synset('causal_agent.n.01'): 3,\n",
    " Synset('organism.n.01'): 3,\n",
    " Synset('physical_entity.n.01'): 4,\n",
    " Synset('living_thing.n.01'): 4,\n",
    " Synset('entity.n.01'): 5,\n",
    " Synset('whole.n.02'): 5,\n",
    " Synset('object.n.01'): 6}\n",
    "``"
   ]
  },
  {
   "cell_type": "code",
   "execution_count": 20,
   "id": "c9d66e04",
   "metadata": {},
   "outputs": [],
   "source": [
    "def shortest_paths_to(start_syn: Synset) -> Dict[Synset, int]:\n",
    "    \"\"\"Compute the shortest distance to all nodes on paths to the root.\n",
    "    :param start_syn: synset to which we want to compute the shortest distances\n",
    "    :return: dict that matches all visited hypernyms to their distance to the input synset  \n",
    "    \"\"\" \n",
    "    list: List[Tuple[Synset, int]] = [(start_syn, 0)]  \n",
    "    \n",
    "   \n",
    "    shortest_paths = {start_syn: 0}\n",
    "    \n",
    "    while list:\n",
    "        \n",
    "        synset, distance = list.pop(0)\n",
    "        \n",
    "        hypernyms = synset.hypernyms() + synset.instance_hypernyms()\n",
    "        \n",
    "        for hypernym in hypernyms:\n",
    "            distance_hypernym = distance + 1\n",
    "   \n",
    "            if hypernym not in shortest_paths or distance_hypernym < shortest_paths[hypernym]:\n",
    "                shortest_paths[hypernym] = distance_hypernym\n",
    "                list.append((hypernym, distance_hypernym))\n",
    "    \n",
    "    return shortest_paths\n",
    "    "
   ]
  },
  {
   "cell_type": "code",
   "execution_count": 21,
   "id": "69bbe4c4",
   "metadata": {},
   "outputs": [
    {
     "data": {
      "text/plain": [
       "{Synset('calculator.n.01'): 0,\n",
       " Synset('expert.n.01'): 1,\n",
       " Synset('person.n.01'): 2,\n",
       " Synset('organism.n.01'): 3,\n",
       " Synset('causal_agent.n.01'): 3,\n",
       " Synset('living_thing.n.01'): 4,\n",
       " Synset('physical_entity.n.01'): 4,\n",
       " Synset('whole.n.02'): 5,\n",
       " Synset('entity.n.01'): 5,\n",
       " Synset('object.n.01'): 6}"
      ]
     },
     "execution_count": 21,
     "metadata": {},
     "output_type": "execute_result"
    }
   ],
   "source": [
    "s = wn.synset('calculator.n.01')\n",
    "shortest_paths_to(s)"
   ]
  },
  {
   "cell_type": "markdown",
   "id": "3fda6f14",
   "metadata": {},
   "source": [
    "__b)__ Write a function ``merge_paths`` that gets two dictionaries that map synsets to shortest distances (you can assume they were created by the function from __a)__) and merges them. The function shold return a dictionary that includes all synsets and distances that appear in any of the input dictionaries. If a synset appears in both input dictionaries, we want to keep the shorter distance. Leave the input dictionaries unaltered. __(1.5 pts)__\n",
    "\n",
    "Use the signature in the cell below."
   ]
  },
  {
   "cell_type": "code",
   "execution_count": 22,
   "id": "41ffe524",
   "metadata": {},
   "outputs": [],
   "source": [
    "def merge_paths(p1: Dict[Synset, int], p2: Dict[Synset, int]) -> Dict[Synset, int]:\n",
    "    \"\"\"Merge two paths keeping the shorter distance for synsets that appear more than once.\n",
    "    :param p1: first dict that maps synsets to their shortest distances\n",
    "    :param p2: second dict that maps synsets to their shortest distances\n",
    "    :return: merged dict\n",
    "    \"\"\"\n",
    "    result = p1.copy()\n",
    "    \n",
    "    for synset, distance in p2.items():\n",
    "        \n",
    "        if synset in result:\n",
    "            result[synset] = min(result[synset], distance)\n",
    "        else:\n",
    "            result[synset] = distance\n",
    "    \n",
    "    return result\n",
    "    "
   ]
  },
  {
   "cell_type": "code",
   "execution_count": 23,
   "id": "0e0cb207",
   "metadata": {},
   "outputs": [
    {
     "data": {
      "text/plain": [
       "{Synset('calculator.n.01'): 0,\n",
       " Synset('expert.n.01'): 0,\n",
       " Synset('person.n.01'): 1,\n",
       " Synset('organism.n.01'): 2,\n",
       " Synset('causal_agent.n.01'): 2,\n",
       " Synset('living_thing.n.01'): 3,\n",
       " Synset('physical_entity.n.01'): 3,\n",
       " Synset('whole.n.02'): 4,\n",
       " Synset('entity.n.01'): 4,\n",
       " Synset('object.n.01'): 5}"
      ]
     },
     "execution_count": 23,
     "metadata": {},
     "output_type": "execute_result"
    }
   ],
   "source": [
    "s = wn.synset('calculator.n.01')\n",
    "p = wn.synset('expert.n.01')\n",
    "\n",
    "merge_paths(shortest_paths_to(s), shortest_paths_to(p))"
   ]
  },
  {
   "cell_type": "markdown",
   "id": "ade7ce46",
   "metadata": {},
   "source": [
    "__c)__ Write a function ``all_hypernym_paths`` that gets a word as input and returns a dictionary that maps all hypernyms that are reachable from the set of synsets associated with the word to the shortest distance leading there. __(1.5 pts)__\n",
    "\n",
    "Use the signature in the cell below."
   ]
  },
  {
   "cell_type": "code",
   "execution_count": 24,
   "id": "13112dc7",
   "metadata": {},
   "outputs": [],
   "source": [
    "def all_hypernym_paths(word: str) -> Dict[Synset, int]:\n",
    "    \"\"\"Get all hypernyms of all synsets associated with the input word and compute the shortest distance leading there.\n",
    "    :param word: input word\n",
    "    :return: dict that matches all reachable hypernyms to their shortest distance \n",
    "    \"\"\"\n",
    "    all_paths: Dict[Synset, int] = {}\n",
    "    \n",
    "    synsets = wn.synsets(word)\n",
    "    \n",
    "    for synset in synsets:\n",
    "        paths = shortest_paths_to(synset)\n",
    "        \n",
    "        all_paths = merge_paths(all_paths, paths)\n",
    "    \n",
    "    return all_paths"
   ]
  },
  {
   "cell_type": "code",
   "execution_count": 25,
   "id": "c64b5fe3",
   "metadata": {},
   "outputs": [
    {
     "data": {
      "text/plain": [
       "{Synset('calculator.n.01'): 0,\n",
       " Synset('expert.n.01'): 1,\n",
       " Synset('person.n.01'): 2,\n",
       " Synset('organism.n.01'): 3,\n",
       " Synset('causal_agent.n.01'): 3,\n",
       " Synset('living_thing.n.01'): 4,\n",
       " Synset('physical_entity.n.01'): 4,\n",
       " Synset('whole.n.02'): 5,\n",
       " Synset('entity.n.01'): 5,\n",
       " Synset('object.n.01'): 6,\n",
       " Synset('calculator.n.02'): 0,\n",
       " Synset('machine.n.01'): 1,\n",
       " Synset('device.n.01'): 2,\n",
       " Synset('instrumentality.n.03'): 3,\n",
       " Synset('artifact.n.01'): 4}"
      ]
     },
     "execution_count": 25,
     "metadata": {},
     "output_type": "execute_result"
    }
   ],
   "source": [
    "all_hypernym_paths('calculator')"
   ]
  },
  {
   "cell_type": "markdown",
   "id": "49270f8b",
   "metadata": {},
   "source": [
    "__d)__  Write a function ``get_dist`` that returns the word similarity between two input words, according to the formula given in the task description at the beginning.  __(3 pts)__\n",
    "\n",
    "Use the signature in the cell below."
   ]
  },
  {
   "cell_type": "code",
   "execution_count": 26,
   "id": "b0a4e8dc",
   "metadata": {},
   "outputs": [],
   "source": [
    "def get_dist(w1 : str, w2 : str) -> float:\n",
    "    \"\"\"Compute the similarity between two input words in the WordNet hierarchy tree.\n",
    "    :param w1: first input word\n",
    "    :param w2: second input word\n",
    "    :return: word similarity\n",
    "    \"\"\"\n",
    "   \n",
    "    paths_w1 = all_hypernym_paths(w1)\n",
    "    paths_w2 = all_hypernym_paths(w2)\n",
    "    \n",
    "    d = None # minimum distance between two words\n",
    "    \n",
    "    \n",
    "    for synset1, dist1 in paths_w1.items():\n",
    "        if synset1 in paths_w2:\n",
    "           \n",
    "            dist2 = paths_w2[synset1]\n",
    "            total_dist = dist1 + dist2\n",
    "           \n",
    "            if d is None:\n",
    "                d = total_dist\n",
    "            if d < total_dist:\n",
    "                d = total_dist\n",
    "\n",
    "    \n",
    "    # no similarity\n",
    "    if d is None:\n",
    "        return 0.0\n",
    "    \n",
    "    word_similarity = 1 / (1 + d)\n",
    "    return word_similarity"
   ]
  },
  {
   "cell_type": "code",
   "execution_count": 27,
   "id": "fad00624",
   "metadata": {},
   "outputs": [
    {
     "data": {
      "text/plain": [
       "0.08333333333333333"
      ]
     },
     "execution_count": 27,
     "metadata": {},
     "output_type": "execute_result"
    }
   ],
   "source": [
    "get_dist('calculator', 'expert')"
   ]
  },
  {
   "cell_type": "markdown",
   "id": "3426121d",
   "metadata": {},
   "source": [
    "### Task 2: Lesk algorithm (4 points)\n",
    "\n",
    "In this task we want to implement a simple version of the Lesk algorithm, a thesaurus-based method for word sense disambiguation. Given a target word $w$ and a context, the algorithm finds the word sense that is most fitting in the context. To achieve this, the Lesk algorithm computes the number of overlapping words between the context sentence and the definitions of the WordNet synsets, associated with $w$.\n",
    "\n",
    "Write a function ``lesk`` that takes a word and a context string (e.g. a sentence) and returns the most fitting sense from the synsets associated with the word and the corresponding context overlap. The most fitting sense is the one whose definition shares the most words with the context string. Before matching tokens, make sure to \n",
    "\n",
    "* only include valid tokens (cf. HA 1, task 2a)\n",
    "* remove stopwords\n",
    "* only match stems of words (e.g. consider the ``PorterStemmer`` from ``nltk``)\n",
    "\n",
    "When computing the context overlap, count each stemmed word only once, even if they occur multiple times. If there is no fitting synset, i.e., the context overlap between the context and the synset definitions is 0, return None instead.\n",
    "\n",
    "Use the signature in the cell below."
   ]
  },
  {
   "cell_type": "code",
   "execution_count": 28,
   "id": "055d9147",
   "metadata": {},
   "outputs": [],
   "source": [
    "# HA 1, task 2a)\n",
    "from nltk.corpus.reader.util import StreamBackedCorpusView \n",
    "from nltk.corpus import stopwords\n",
    "import re\n",
    "import string\n",
    "\n",
    "def get_valid_tokens(tokens: Union[List[str], StreamBackedCorpusView], remove_stopwords: bool=False) -> List[str]:\n",
    "    \"\"\"\n",
    "    :param tokens: list of tokens that should be cleaned\n",
    "    :param remove_stopwords: bool indicating if stopwords should be removed \n",
    "                             False by default\n",
    "    :return: list of valid tokens\n",
    "    \"\"\"\n",
    "    valid = []\n",
    "    punct = string.punctuation\n",
    "    stop = stopwords.words('english')\n",
    "    digit = re.compile(r\"\\d+\")\n",
    "    \n",
    "    for t in tokens:\n",
    "        if t in punct:\n",
    "            continue\n",
    "        if remove_stopwords and t.lower() in stop:\n",
    "            continue\n",
    "        if re.fullmatch(digit, t):\n",
    "            continue\n",
    "        valid.append(t.lower())\n",
    "    return valid"
   ]
  },
  {
   "cell_type": "code",
   "execution_count": 29,
   "id": "054adffc",
   "metadata": {},
   "outputs": [],
   "source": [
    "from nltk.stem import PorterStemmer\n",
    "stemmer = PorterStemmer()\n",
    "def lesk(word: str, context: str) -> (Synset, int):\n",
    "    '''\n",
    "    Compute the most probable sense of a word in the given context.\n",
    "    :param word: ambiguous word\n",
    "    :param context: context in which the word appears\n",
    "    :returns: \n",
    "        - synset with the most likely word sense\n",
    "        - context overlap of synset and context          \n",
    "    '''\n",
    "    # your code here\n",
    "\n",
    "    # Get all synsets for the given word\n",
    "    synsets = wn.synsets(word)\n",
    "    if not synsets:\n",
    "        return None\n",
    "\n",
    "    # Tokenize and clean the context\n",
    "    valid_context = get_valid_tokens(context.split(), remove_stopwords=True)\n",
    "    valid_context_set = set(stemmer.stem(t) for t in valid_context)  # Stem context tokens\n",
    "    \n",
    "    max_overlap = 0\n",
    "    best_synset = None\n",
    "\n",
    "    for synset in synsets:\n",
    "        # Get definition of the current synset\n",
    "        definition = synset.definition()\n",
    "        # Tokenize and stem the definition\n",
    "        definition_tokens = get_valid_tokens(definition.split(), remove_stopwords=False)\n",
    "        definition_stems = set(stemmer.stem(t) for t in definition_tokens)\n",
    "\n",
    "        # Calculate overlap with the valid context\n",
    "        overlap = len(valid_context_set.intersection(definition_stems))\n",
    "        if overlap > max_overlap:\n",
    "            max_overlap = overlap\n",
    "            best_synset = synset\n",
    "\n",
    "    # Return the best synset and the overlap count\n",
    "    return (best_synset.name(), max_overlap) if best_synset else None"
   ]
  },
  {
   "cell_type": "markdown",
   "id": "c3cd2570",
   "metadata": {},
   "source": [
    "### Task 3: Markov chains (13 points)\n",
    "\n",
    "In this task we want to create a language model by using the independence assumption af Markov. We therefore assume that the probability of a word is only dependent on a fixed number of preceding words. E.g. by restricting the number of preceding words to $n$ we can approximate the probability of a word $w_{i}$ following a sequence of words $w_1, ..., w_{i-1}$ by:\n",
    "\n",
    "$P(w_{i}|w_1, ..., w_{i-1}) \\approx P(w_{i}|w_{i-n}, ..., w_{i-1})$\n",
    "\n",
    "We will first train our model on a given corpus and then use it to automatically generate text.\n",
    "\n",
    "Throughout this task we will define a single class with different functions. If you're unsure how to access class methods and attributes, take a look at the documentation (https://docs.python.org/3/tutorial/classes.html)."
   ]
  },
  {
   "cell_type": "markdown",
   "id": "f19633b2",
   "metadata": {},
   "source": [
    "__a) Collecting the counts (3 pts)__\n",
    "\n",
    "Write a function `process_corpus` that takes a corpus of text (as a sequence of tokens) as input and counts how often an n-gram of length $n$ (``context_len=n``) is followed by a certain word (the n-grams should __not__ be padded). The function should return a dictionary that maps every n-gram that is observed in the corpus to an inner dictionary. The inner dictionary maps each word to a number, that indicates how often the word succeeds the n-gram in the given corpus. We will need these counts to compute the conditional probabilities $P(w_{i}|w_{i-n}, ..., w_{i-1})$.\n",
    "Additionally, also return the entire vocabulary $V$ (i.e. the set of all unique tokens that appear in the corpus).\n",
    "\n",
    "Make sure your implementation is efficient by using e.g. ``Counter`` and ``defaultdict`` from the package ``collections``.   \n",
    "\n",
    "__b) Conditional probabilities (3 pts)__\n",
    "\n",
    "Write a function `transition_prob` that takes an n-gram $(w_{i-n}, ..., w_{i-1})$ and a word $w_{i}$ of the vocabulary $V$ as input and returns the conditional probability that the given n-gram is followed by the input word $w_{i}$. Recall that this conditional probability can be computed as follows:\n",
    "\n",
    "$P(w_{i}|w_{i-n}, ..., w_{i-1}) = \\frac{\\text{Count}(w_{i-n}, ..., w_{i-1}, w_{i})}{\\sum_{w \\in V}\\text{Count}(w_{i-n}, ..., w_{i-1}, w)}$\n",
    "\n",
    "If the n-gram has never been observed, return $\\frac{1}{|V|}$.\n",
    "\n",
    "__c) Most likely word (3 pts)__\n",
    "\n",
    "Write a function `most_likely_word` that gets an n-gram as input and returns the word that is most likely to succeed the given n-gram. In case there are multiple words that are equally likely to follow the given n-gram, return all of them. \n",
    "Note that you should **not** loop over the **entire** vocabulary to obtain the most likely word.\n",
    "In case the given n-gram has never been observed, return the entire vocabulary.\n",
    "\n",
    "__d) Generating text (2 pts)__\n",
    "\n",
    "Write a function `generate_text` that generates a text sequence of length `k`, given a starting sequence of words (`ngram`). The function should choose the most likely next word in every step; in case there are multiple equally likely words, randomly choose one. You should return a list of ``k`` words, that includes the starting sequence and is the most probable continuation. \n",
    "\n",
    "\n",
    "Please do not implement other functions for the MarkovModel class.\n",
    "\n",
    "Use the function signatures in the cell below."
   ]
  },
  {
   "cell_type": "code",
   "execution_count": 30,
   "id": "304206ec",
   "metadata": {},
   "outputs": [],
   "source": [
    "from collections import defaultdict, Counter\n",
    "import random\n",
    "from nltk.util import ngrams\n",
    "\n",
    "class MarkovModel():\n",
    "    '''Markov model for generating text.'''\n",
    "    \n",
    "    def __init__(self, tokens: Sequence[str], context_len: int):\n",
    "        '''\n",
    "        :param tokens: text corpus on which the model is trained on as an iterator of tokens\n",
    "        :param context_len: length of the n-gram (number of preceding words)\n",
    "        '''\n",
    "        self.context_len = context_len \n",
    "        self.counts, self.v = self.process_corpus(tokens)\n",
    "        \n",
    "    def process_corpus(self, tokens: Sequence[str]) -> (Dict[Tuple[str, ...], Dict[str, int]], Set):\n",
    "        '''Training method of the model, counts the occurences of each word after each observed n-gram.\n",
    "        :param tokens: text corpus on which the model is trained on as an iterator of tokens\n",
    "        :returns: \n",
    "            - nested dict that maps each n-gram to the counts of the words succeeding it\n",
    "            - the whole vocabulary as a set\n",
    "        '''\n",
    "        ngram_dict = defaultdict(Counter)  \n",
    "        vocabulary = set(tokens) \n",
    "\n",
    "       \n",
    "        for i in range(len(tokens) - self.context_len):\n",
    "            ngram = tuple(tokens[i:i + self.context_len])  \n",
    "            next_word = tokens[i + self.context_len]  \n",
    "            ngram_dict[ngram][next_word] += 1  \n",
    "        \n",
    "        return ngram_dict, vocabulary\n",
    "        \n",
    "        \n",
    "    def transition_prob(self, ngram: Tuple[str, ...], word: str) -> float:\n",
    "        '''Compute the conditional probability that the input word follows the given n-gram.\n",
    "        :param ngram: string tuple that represents an n-gram\n",
    "        :param word: input word\n",
    "        :return: probability that the n-gram is followed by the input word\n",
    "        '''\n",
    "        \n",
    "        if ngram not in self.counts:\n",
    "            return 1 / len(self.v)\n",
    "        \n",
    "        \n",
    "        \n",
    "        word_count = self.counts[ngram][word]\n",
    "        \n",
    "        \n",
    "        total_count = sum(self.counts[ngram].values())\n",
    "\n",
    "        if(total_count > 0):\n",
    "            return word_count / total_count\n",
    "        else:\n",
    "            return 1 / len(self.v)\n",
    "        \n",
    "    \n",
    "    def most_likely_word(self, ngram: Tuple[str, ...]) -> Set[str]:\n",
    "        '''Computes which word is most likely to follow a given n-gram.\n",
    "        :param ngram: n-gram we are interested in\n",
    "        return: set of words that are most likely to follow the n-gram\n",
    "        '''\n",
    "        \n",
    "        if ngram not in self.counts:\n",
    "            return list(self.v)\n",
    "        \n",
    "        \n",
    "        following = self.counts[ngram]\n",
    "        word_prob = {word: self.transition_prob(ngram, word) for word in following}\n",
    "        max_prob = max(word_prob.values())\n",
    "        most_likely = [word for word, prob in word_prob.items() if prob == max_prob]\n",
    "        \n",
    "        return most_likely\n",
    "        \n",
    "    \n",
    "    def generate_text(self, ngram: Tuple[str, ...], k: int) -> List[str]:\n",
    "        '''Generates a text sequence of length k, given a starting sequence.\n",
    "        :param ngram: starting sequence\n",
    "        :param k: total number of words in the generated sequence\n",
    "        :return: sequence of generated words, including the starting sequence\n",
    "        '''\n",
    "        text = list(ngram)  \n",
    "        \n",
    "        \n",
    "        for i in range(k - len(ngram)):\n",
    "            \n",
    "            next_words = self.most_likely_word(tuple(text[-self.context_len:]))\n",
    "            \n",
    "            \n",
    "            next_word = random.choice(next_words)\n",
    "            \n",
    "            \n",
    "            text.append(next_word)\n",
    "        \n",
    "        return text\n",
    "        "
   ]
  },
  {
   "cell_type": "markdown",
   "id": "1f1f8ee0",
   "metadata": {},
   "source": [
    "__e) Apply the model to a corpus (2 pts)__\n",
    "\n",
    "Finally, we want to apply our functions to the King James Bible (`'bible-kjv.txt'`) that is part of the ``gutenberg`` corpus. Use the function from HA 1, task 2a) to obtain a list of valid tokens (do not remove stopwords) from the King James Bible.\n",
    "\n",
    "Initialize the MarkovModel with the list of valid tokens and ``context_len=3`` and answer the following subtasks:\n",
    "\n",
    "i) What is the probability that the word ``babylon`` follows the sequence ``the king of``? \n",
    "\n",
    "ii) What are the most likely words to follow the sequence ``the world is``? \n",
    "\n",
    "iii) Generate a sequence of length 20 that starts with ``mother mary was``.\n"
   ]
  },
  {
   "cell_type": "code",
   "execution_count": 31,
   "id": "199e8f0c",
   "metadata": {},
   "outputs": [],
   "source": [
    "import nltk\n",
    "import string\n",
    "from nltk.corpus.reader.util import StreamBackedCorpusView\n",
    "from nltk.corpus import stopwords\n",
    "from nltk.corpus import gutenberg\n",
    "from typing import List, Union, Dict, Set, Tuple\n",
    "\n",
    "def get_valid_tokens(tokens: Union[List[str], StreamBackedCorpusView], remove_stopwords: bool=False) -> List[str]:\n",
    "    \"\"\"\n",
    "    #:param tokens: list of tokens that should be cleaned\n",
    "    #:param remove_stopwords: bool indicating if stopwords should be removed \n",
    "                             #False by default\n",
    "    #:return: list of valid tokens\n",
    "    #\"\"\"\n",
    "    # your code here\n",
    "    stop_words = set (stopwords.words('english')) if remove_stopwords else set()\n",
    "\n",
    "    punctuation_set = set(string.punctuation)\n",
    "\n",
    "    valid_tokens = []\n",
    "\n",
    "    if isinstance(tokens, StreamBackedCorpusView):\n",
    "        tokens = list(tokens)\n",
    "    \n",
    "    for token in tokens: \n",
    "        token = token.lower()\n",
    "        if all(char in punctuation_set for char in token):\n",
    "            continue\n",
    "        \n",
    "        if token.isdigit(): \n",
    "            continue\n",
    "\n",
    "        if remove_stopwords and token.lower() in stop_words: \n",
    "            continue\n",
    "\n",
    "        valid_tokens.append(token)\n",
    "\n",
    "    return valid_tokens"
   ]
  },
  {
   "cell_type": "code",
   "execution_count": 32,
   "id": "8bdcb77a",
   "metadata": {},
   "outputs": [
    {
     "name": "stderr",
     "output_type": "stream",
     "text": [
      "[nltk_data] Downloading package gutenberg to\n",
      "[nltk_data]     /Users/elisarogers/nltk_data...\n",
      "[nltk_data]   Package gutenberg is already up-to-date!\n"
     ]
    }
   ],
   "source": [
    "nltk.download('gutenberg')\n",
    "raw = gutenberg.raw('bible-kjv.txt')\n",
    "\n",
    "words = gutenberg.words('bible-kjv.txt')\n",
    "\n",
    "valid_tokens = get_valid_tokens(words, remove_stopwords=False)\n",
    "markov_model = MarkovModel(valid_tokens, context_len=3)"
   ]
  },
  {
   "cell_type": "code",
   "execution_count": 33,
   "id": "ea666a0d",
   "metadata": {},
   "outputs": [
    {
     "name": "stdout",
     "output_type": "stream",
     "text": [
      "Probability that 'babylon' follows 'the king of': 0.1906779661016949\n"
     ]
    }
   ],
   "source": [
    "#i)\n",
    "ngram = ('the', 'king', 'of')\n",
    "word = 'babylon'\n",
    "prob_babylon = markov_model.transition_prob(ngram, word)\n",
    "print(f\"Probability that 'babylon' follows 'the king of': {prob_babylon}\")"
   ]
  },
  {
   "cell_type": "code",
   "execution_count": 34,
   "id": "b7cd508d",
   "metadata": {},
   "outputs": [
    {
     "name": "stdout",
     "output_type": "stream",
     "text": [
      "Most likely words to follow 'the world is': ['mine', 'gone', 'crucified', 'enmity', 'the']\n"
     ]
    }
   ],
   "source": [
    "#ii)\n",
    "ngram = ('the', 'world', 'is')\n",
    "\n",
    "\n",
    "most_likely = markov_model.most_likely_word(ngram)\n",
    "print(f\"Most likely words to follow 'the world is': {most_likely}\")"
   ]
  },
  {
   "cell_type": "code",
   "execution_count": 35,
   "id": "98e44f4f",
   "metadata": {},
   "outputs": [
    {
     "name": "stdout",
     "output_type": "stream",
     "text": [
      "Generated sequence: mother mary was espoused to joseph before they came together she was found with child of gilead that they might\n"
     ]
    }
   ],
   "source": [
    "#iii)\n",
    "ngram = ('mother', 'mary', 'was')\n",
    "\n",
    "text = markov_model.generate_text(ngram, 20)\n",
    "print(f\"Generated sequence: {' '.join(text)}\")"
   ]
  },
  {
   "cell_type": "markdown",
   "id": "b1b087c5",
   "metadata": {},
   "source": [
    "## Note to Professor: \n",
    "we additionally imported random module from python standard library"
   ]
  }
 ],
 "metadata": {
  "kernelspec": {
   "display_name": "Python 3.9.18 ('myenv')",
   "language": "python",
   "name": "python3"
  },
  "language_info": {
   "codemirror_mode": {
    "name": "ipython",
    "version": 3
   },
   "file_extension": ".py",
   "mimetype": "text/x-python",
   "name": "python",
   "nbconvert_exporter": "python",
   "pygments_lexer": "ipython3",
   "version": "3.9.18"
  },
  "vscode": {
   "interpreter": {
    "hash": "710ee2daa664e474cf62fbbc0f34be7e2f929e388147bb7d1a16aeecf6cfbd03"
   }
  }
 },
 "nbformat": 4,
 "nbformat_minor": 5
}
